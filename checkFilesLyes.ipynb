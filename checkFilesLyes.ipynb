{
 "cells": [
  {
   "cell_type": "code",
   "execution_count": null,
   "metadata": {},
   "outputs": [],
   "source": [
    "from tracemalloc import stop\n",
    "from turtle import color\n",
    "import pandas as pd\n",
    "import numpy as np\n",
    "import matplotlib.pyplot as plt\n",
    "from statistics import mean\n",
    "from collectAllMeasureDataInOneFile import*\n",
    "import seaborn as sns\n",
    "from scipy.fft import fft, ifft\n",
    "from ExperimentClass import*\n",
    "from InvestigationClass import*\n",
    "from ExperimentDescription import*\n",
    "from MultiInvestigationClass import*\n"
   ]
  },
  {
   "cell_type": "code",
   "execution_count": null,
   "metadata": {},
   "outputs": [],
   "source": [
    "scaleTo = 100\n",
    "\n",
    "noiseBFieldPath = r'C:\\Users\\freiseml\\Nextcloud2\\00-These Leo\\99-Travaux Lyes\\Mesures CEA_2D\\07_02_2017\\Caract_Bruit\\\\'\n",
    "filenamenoiseAV = \"champ_Aux_on_PD.lvm\"\n",
    "filenamenoiseCenter = \"champ_Aux_on_PC.lvm\"\n",
    "filenamenoiseAR = \"champ_Aux_on_PG.lvm\"\n",
    "\n",
    "bFieldPath = r'C:\\Users\\freiseml\\Nextcloud2\\00-These Leo\\99-Travaux Lyes\\Mesures CEA_2D\\07_02_2017\\Stochio\\\\'\n",
    "filenameAV = 'champ_I100A_PD.lvm'                     ###!!!!!!!!-----------> Change here <-----------!!!!!!!!!!!!!!!!\n",
    "filenameC = 'champ_I100A_PC.lvm'                  ###!!!!!!!!-----------> Change here <-----------!!!!!!!!!!!!!!!!\n",
    "filenameAR = 'champ_I100A_PG.lvm'                     ###!!!!!!!!-----------> Change here <-----------!!!!!!!!!!!!!!!!\n",
    "\n",
    "measuredCurrent = 100\n",
    "measurementName = \"Reference 100 A\"\n",
    "measurementDate = \"07.02.2017\"\n",
    "measurementYear = 2017\n",
    "\n",
    "Ref100AExperiment2021_07_28 = Experiment(measurementYear, measurementName, measurementDate, measuredCurrent, scaleTo, noiseBFieldPath, filenamenoiseAV, filenamenoiseCenter,filenamenoiseAR, bFieldPath, filenameAV, filenameC, filenameAR)\n",
    "\n",
    "refExperiment = Ref100AExperiment2021_07_28"
   ]
  },
  {
   "cell_type": "code",
   "execution_count": null,
   "metadata": {},
   "outputs": [],
   "source": [
    "## 100A Stoichiometry 2017_02_07 100 A #####################################################################################\n",
    "noiseBFieldPath = r'C:\\Users\\freiseml\\Nextcloud2\\00-These Leo\\99-Travaux Lyes\\Mesures CEA_2D\\09_02_2017\\Sto2_100A\\\\'\n",
    "filenamenoiseAV = \"bruitPD.lvm\"\n",
    "filenamenoiseCenter = \"bruitPC.lvm\"\n",
    "filenamenoiseAR = \"bruitPG.lvm\"\n",
    "\n",
    "bFieldPath = r\"C:\\Users\\freiseml\\Nextcloud2\\00-These Leo\\99-Travaux Lyes\\Mesures CEA_2D\\09_02_2017\\Sto13_100A\\\\\"\n",
    "filenameAR = '100 A PD sto air 1,3.lvm'                     ###!!!!!!!!-----------> Change here <-----------!!!!!!!!!!!!!!!!\n",
    "filenameC = '100 A PC sto air 1,3-b.lvm'                  ###!!!!!!!!-----------> Change here <-----------!!!!!!!!!!!!!!!!\n",
    "filenameAV = '100 A PG sto air 1,3.lvm'                     ###!!!!!!!!-----------> Change here <-----------!!!!!!!!!!!!!!!!\n",
    "\n",
    "\n",
    "measurementName = \"Stoichiometry 1.3 100 A\"\n",
    "measurementDate = \"09.02.2017\"\n",
    "measurementYear = 2017\n",
    "\n",
    "Humidity100AExperiment2021_08_18 = Experiment(measurementYear, measurementName, measurementDate, measuredCurrent, scaleTo, noiseBFieldPath, filenamenoiseAV, filenamenoiseCenter,filenamenoiseAR, bFieldPath, filenameAV, filenameC, filenameAR)\n",
    "testExperiment = Humidity100AExperiment2021_08_18"
   ]
  },
  {
   "cell_type": "code",
   "execution_count": null,
   "metadata": {},
   "outputs": [],
   "source": [
    "\n",
    "sensorsOfInterest = np.linspace(2, 32, 30, dtype=int)\n",
    "\n",
    "# set dataSet and plot info\n",
    "dataSet1 = testExperiment.bFieldDataAR\n",
    "ringsStd = [0, 0.25,  0.5, 0.75]\n",
    "ringsData = [-100, -50, 0, 50, 100]\n",
    "titleInformationData = \"AR - With noise\"\n",
    "# plot data\n",
    "testExperiment.plotErrorPlotsForOneSensorLayer(sensorsOfInterest, titleInformationData, ringsStd, ringsData, dataSet1)\n",
    "\n",
    "# set dataSet and plot info\n",
    "dataSet2 = testExperiment.bFieldDataC\n",
    "ringsStd = [0, 0.25,  0.5, 0.75]\n",
    "ringsData = [-100, -50, 0, 50, 100]\n",
    "titleInformationData = \"Center - With noise\"\n",
    "# plot data\n",
    "testExperiment.plotErrorPlotsForOneSensorLayer(sensorsOfInterest, titleInformationData, ringsStd, ringsData, dataSet2)\n",
    "\n",
    "# set dataSet and plot info\n",
    "dataSet3 = testExperiment.bFieldDataAV\n",
    "ringsStd = [0, 0.25,  0.5, 0.75]\n",
    "ringsData = [-100, -50, 0, 50, 100]\n",
    "titleInformationData = \"AV - With noise\"\n",
    "# plot data\n",
    "testExperiment.plotErrorPlotsForOneSensorLayer(sensorsOfInterest, titleInformationData, ringsStd, ringsData, dataSet3)"
   ]
  },
  {
   "cell_type": "code",
   "execution_count": null,
   "metadata": {},
   "outputs": [],
   "source": [
    "sensorsOfInterest = np.linspace(1, 29, 28, dtype=int)\n",
    "TestInvestigation2021_08_12 = Investigation(True, refExperiment, testExperiment, sensorsOfInterest)"
   ]
  },
  {
   "cell_type": "code",
   "execution_count": null,
   "metadata": {},
   "outputs": [],
   "source": [
    "TestInvestigation2021_08_12.plotPolarCompFieldsOfExperiments()"
   ]
  },
  {
   "cell_type": "code",
   "execution_count": null,
   "metadata": {},
   "outputs": [],
   "source": [
    "plt.plot(np.multiply(testExperiment.bFieldDataAV.iloc[:,50],1E6))"
   ]
  },
  {
   "cell_type": "code",
   "execution_count": null,
   "metadata": {},
   "outputs": [],
   "source": [
    "TestInvestigation2021_08_12.diffFieldOf180sensorsWithNOISE()\n",
    "diffField = np.multiply(TestInvestigation2021_08_12.diffBField,1E6)"
   ]
  },
  {
   "cell_type": "code",
   "execution_count": null,
   "metadata": {},
   "outputs": [],
   "source": [
    "plt.plot(np.multiply(TestInvestigation2021_08_12.FaultExperiment.BFieldMeanvalueWithNoiseAV,1E6))"
   ]
  },
  {
   "cell_type": "code",
   "execution_count": null,
   "metadata": {},
   "outputs": [],
   "source": [
    "sensorName = \"Cap_U_1 (Moy. arithm.)\"\n",
    "figureName = \"test\"\n",
    "TestInvestigation2021_08_12.compOfTwoSensors(sensorName=sensorName, figureName=figureName, dataSet1=dataSet1, dataSet2=dataSet2, experiment1=testExperiment, experiment2=testExperiment)"
   ]
  },
  {
   "cell_type": "code",
   "execution_count": null,
   "metadata": {},
   "outputs": [],
   "source": [
    "sensorsAVBu = np.linspace(2, 2+29, 30, dtype=int)\n",
    "colors = plt.cm.jet(np.linspace(0,1,30+2))\n",
    "fig, axs = plt.subplots(1, 1, figsize=set_size(), sharey=True)\n",
    "labelNames = testExperiment.bFieldDataAR.columns.values\n",
    "i = 2\n",
    "plt.plot(testExperiment.bFieldDataAR.iloc[:,i] * testExperiment.arrayPlotFactor, label = labelNames[i],color = colors[i])"
   ]
  },
  {
   "cell_type": "code",
   "execution_count": null,
   "metadata": {},
   "outputs": [],
   "source": [
    "nStart = 32\n",
    "nEnd = 59\n",
    "sensorsAVBu = np.linspace(nStart, nEnd, nEnd - nStart , dtype=int)\n",
    "colors = plt.cm.jet(np.linspace(0,1,30+2))\n",
    "fig, axs = plt.subplots(1, 1, figsize=set_size(), sharey=True)\n",
    "labelNames = testExperiment.bFieldDataC.columns.values\n",
    "for i in sensorsAVBu:\n",
    "    plt.plot(testExperiment.bFieldDataC.iloc[:,i] * testExperiment.arrayPlotFactor, label = labelNames[i],color = colors[i])\n"
   ]
  },
  {
   "cell_type": "code",
   "execution_count": null,
   "metadata": {},
   "outputs": [],
   "source": [
    "fig, axs = plt.subplots(2, 2, figsize=set_size(), sharey=True)\n",
    "axs[0, 1].sharex(axs[0, 0])\n",
    "axs[1, 0].sharex(axs[1, 1])\n",
    "i = 4\n",
    "sensorName = testExperiment.bFieldDataAR.iloc[:,i].name\n",
    "\n",
    "plt.xlabel(\"Sensor number\")\n",
    "plt.ylabel(\"Field Strength ($\\mu$T)\")\n",
    "sns.violinplot(refExperiment.BFieldCleanMeasurementAR.loc[:,sensorName]*refExperiment.arrayPlotFactor, ax = axs[0, 0]).set(xlabel=sensorName)\n",
    "\n",
    "sns.boxenplot(refExperiment.BFieldCleanMeasurementAR.loc[:,sensorName]*refExperiment.arrayPlotFactor, ax = axs[1, 0]).set(xlabel=sensorName)\n",
    "# axs[0, 1].set_ylim([201, 210])\n",
    "# axs[1, 0].set_ylim([201, 210])\n",
    "sns.violinplot(testExperiment.BFieldCleanMeasurementAR.loc[:,sensorName]*testExperiment.arrayPlotFactor, ax = axs[0, 1]).set(xlabel=sensorName)\n",
    "\n",
    "sns.boxenplot(testExperiment.BFieldCleanMeasurementAR.loc[:,sensorName]*testExperiment.arrayPlotFactor, ax = axs[1, 1]).set(xlabel=sensorName)\n",
    "# plt.xlabel(\"Sensor number\")\n",
    "plt.ylabel(\"Field Strength ($\\mu$T)\")"
   ]
  },
  {
   "cell_type": "code",
   "execution_count": null,
   "metadata": {},
   "outputs": [],
   "source": [
    "import numpy as np\n",
    "from thesis_general_imports import *\n",
    "import matplotlib.pyplot as plt\n",
    "import pandas as pd\n",
    "columnWidth = 252\n",
    "print(columnWidth)\n",
    "\n",
    "\n",
    "dataPath = r'Z:\\00_Sandbox\\MIPSE\\\\'\n",
    "reconstructedField =  \"2023-12-11-11-14-ResultFieldAdjoint.txt\"\n",
    "reconstructedResistivity = \"2023-12-11-11-14-ResultConAdjoint.txt\"\n",
    "\n",
    "baseField = \"00-fieldBase.txt\"\n",
    "baseResistivity = \"00-rhoBase.txt\"\n",
    "\n",
    "residualData = \"2023-12-11-11-14-ResidualAdjoint.txt\"\n",
    "\n",
    "baseResistivityArray = np.loadtxt(dataPath + reconstructedResistivity)\n",
    "baseResistivityMatrix = np.array_split(baseResistivityArray,5)\n",
    "print(baseResistivityMatrix)\n",
    "\n",
    "fig, ax1 = plt.subplots(1, 1, figsize=set_size(columnWidth,subplots=(1, 1)))\n",
    "\n",
    "label_list = np.arange(1,6, 1)\n",
    "ax1.set_xticks(label_list)\n",
    "ax1.set_yticks(label_list)\n",
    "HM = ax1.imshow(baseResistivityMatrix, cmap = 'viridis', vmin = 0, vmax = 1.5, extent= [0, 5, 5, 0])\n",
    "plt.setp(ax1.get_xticklabels(), rotation=0, ha=\"center\",\n",
    "         rotation_mode=\"anchor\")\n",
    "cbar = fig.colorbar(HM, label = \"Resistivity\")\n",
    "\n",
    "for i in range(len(baseResistivityMatrix)):\n",
    "    for j in range(len(baseResistivityMatrix)):\n",
    "        text = ax1.text(j, i, baseResistivityMatrix[i][j], ha=\"center\" ,va=\"center\", color=\"w\")\n",
    "\n",
    "plt.grid(True)\n",
    "\n",
    "# HM.set_label('Resistivity')\n"
   ]
  },
  {
   "cell_type": "code",
   "execution_count": null,
   "metadata": {},
   "outputs": [],
   "source": [
    "import numpy as np\n",
    "import matplotlib.pyplot as plt\n",
    "import pandas as pd\n",
    "\n",
    "dataPath = r'Z:\\00_Sandbox\\MIPSE\\\\'\n",
    "reconstructedField =  \"2023-12-11-11-14-ResultFieldAdjoint.txt\"\n",
    "reconstructedResistivity = \"2023-12-11-11-14-ResultConAdjoint.txt\"\n",
    "\n",
    "baseField = \"00-fieldBase.txt\"\n",
    "baseResistivity = \"00-rhoBase.txt\"\n",
    "\n",
    "residualData = \"2023-12-11-11-14-ResidualAdjoint.txt\"\n",
    "\n",
    "baseResistivityArray = np.loadtxt(dataPath + reconstructedResistivity)\n",
    "baseResistivityMatrix = np.array_split(baseResistivityArray,5)\n",
    "print(baseResistivityMatrix)\n",
    "\n",
    "fig, ax1 = plt.subplots(1, 1)\n",
    "HM = ax1.imshow(baseResistivityMatrix, cmap = 'viridis', vmin = 0, vmax = 1.5, extent= [0, 5, 5, 0])\n",
    "plt.setp(ax1.get_xticklabels(), rotation=0, ha=\"center\",\n",
    "         rotation_mode=\"anchor\")\n",
    "cbar = fig.colorbar(HM, label = \"Resistivity\")"
   ]
  },
  {
   "cell_type": "code",
   "execution_count": null,
   "metadata": {},
   "outputs": [],
   "source": [
    "fig, ax1 = plt.subplots(1, 1, figsize=set_size(), sharey=True)\n",
    "\n",
    "ax1.set_xlabel('time (ms)')\n",
    "ax1.set_ylabel('Tension',c=specific_colors['MPM_red'])\n",
    "plt.ylim(-86,-85)\n",
    "plt.plot(testFrame.iloc[:,1],c=specific_colors['MPM_red'])\n",
    "\n",
    "\n",
    "field = testFrame.iloc[:,2].pow(1)\n",
    "ax2 = ax1.twinx()\n",
    "ax2.set_ylabel('Magnetic induction',c=specific_colors['RawField'])\n",
    "plt.ylim(35,40)\n",
    "plt.plot(np.multiply(field,1e6),c=specific_colors['RawField'])\n",
    "fig.tight_layout()"
   ]
  }
 ],
 "metadata": {
  "kernelspec": {
   "display_name": "Python 3",
   "language": "python",
   "name": "python3"
  },
  "language_info": {
   "codemirror_mode": {
    "name": "ipython",
    "version": 3
   },
   "file_extension": ".py",
   "mimetype": "text/x-python",
   "name": "python",
   "nbconvert_exporter": "python",
   "pygments_lexer": "ipython3",
   "version": "3.10.0"
  },
  "orig_nbformat": 4
 },
 "nbformat": 4,
 "nbformat_minor": 2
}
